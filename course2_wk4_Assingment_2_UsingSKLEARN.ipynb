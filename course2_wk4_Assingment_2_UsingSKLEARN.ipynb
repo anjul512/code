{
 "cells": [
  {
   "cell_type": "code",
   "execution_count": 1,
   "metadata": {
    "collapsed": true
   },
   "outputs": [],
   "source": [
    "dtype_dict = {'bathrooms':float, 'waterfront':int, 'sqft_above':int, 'sqft_living15':float, \n",
    "              'grade':int, 'yr_renovated':int, 'price':float, 'bedrooms':float, 'zipcode':str, \n",
    "              'long':float, 'sqft_lot15':float, 'sqft_living':float, 'floors':str, 'condition':int, \n",
    "              'lat':float, 'date':str, 'sqft_basement':int, 'yr_built':int, 'id':str, \n",
    "              'sqft_lot':int, 'view':int}"
   ]
  },
  {
   "cell_type": "code",
   "execution_count": 2,
   "metadata": {
    "collapsed": true
   },
   "outputs": [],
   "source": [
    "import numpy as np\n",
    "import pandas as pd"
   ]
  },
  {
   "cell_type": "code",
   "execution_count": 3,
   "metadata": {
    "collapsed": true
   },
   "outputs": [],
   "source": [
    "sales=pd.read_csv('kc_house_data.csv')\n",
    "sales = sales.sort_values(['sqft_living','price'])"
   ]
  },
  {
   "cell_type": "code",
   "execution_count": 8,
   "metadata": {
    "collapsed": false
   },
   "outputs": [
    {
     "data": {
      "text/plain": [
       "21613"
      ]
     },
     "execution_count": 8,
     "metadata": {},
     "output_type": "execute_result"
    }
   ],
   "source": [
    "sales.head(2)\n",
    "len(sales)"
   ]
  },
  {
   "cell_type": "markdown",
   "metadata": {},
   "source": [
    "#from Module 2, copy and paste the ‘get_numpy_data’ function (or equivalent) that takes\n",
    " (i) a dataframe, (ii) a list of features (e.g. [‘sqft_living’, ‘bedrooms’]), to be used as inputs, \n",
    "  (iii) a name of the output (e.g. ‘price’). \n",
    "  This function returns a ‘feature_matrix’ (2D array) consisting of first a column of ones followed by columns   containing the values of the input features in the data set in the same order as the input list. \n",
    "  It also return an ‘output_array’ which is an array of the values of the output in the data set (e.g. ‘price’).\n",
    "\n"
   ]
  },
  {
   "cell_type": "code",
   "execution_count": 5,
   "metadata": {
    "collapsed": true
   },
   "outputs": [],
   "source": [
    "def get_numpy_data(data_sframe,features,output):\n",
    "    # add a constant column to an SFrame \n",
    "    data_sframe['constant'] =1 \n",
    "    features = ['constant'] + features \n",
    "    # select the columns of data_SFrame given by the ‘features’ list into the SFrame ‘features_sframe’\n",
    "    features_sframe =data_sframe[features]\n",
    "    # this will convert the features_sframe into a numpy matrix with GraphLab Create >= 1.7!!\n",
    "    features_matrix = features_sframe \n",
    "    \n",
    "    # assign the column of data_sframe associated with the target to the variable ‘output_sarray’\n",
    "    output_sarray=data_sframe[output]\n",
    "    # this will convert the SArray into a numpy array\n",
    "    output_array = output_sarray \n",
    "    return(features_matrix,output_array)\n"
   ]
  },
  {
   "cell_type": "markdown",
   "metadata": {},
   "source": [
    "#copy and paste the ‘predict_output’ function (or equivalent) from Module 2. This function accepts a 2D array ‘feature_matrix’ and a 1D array ‘weights’ and return a 1D array ‘predictions’."
   ]
  },
  {
   "cell_type": "code",
   "execution_count": 6,
   "metadata": {
    "collapsed": false
   },
   "outputs": [],
   "source": [
    "def predict_output(feature_matrix,weights):\n",
    "    predictions = np.dot(feature_matrix,weights)\n",
    "    return(predictions)"
   ]
  },
  {
   "cell_type": "markdown",
   "metadata": {
    "collapsed": true
   },
   "source": [
    "We are now going to move to computing the derivative of the regression cost function. \n",
    "Recall that the cost function is the sum over the data points of the squared difference between \n",
    "an observed output and a predicted output, plus the L2 penalty term.\n",
    "\n",
    "Cost(w)= SUM[ (prediction - output)^2 ]+ l2_penalty*(w[0]^2 + w[1]^2 + ... + w[k]^2).\n",
    "\n",
    "The derivative of the RSS with respect to w[i] can be written as:\n",
    "2*SUM[ error*[feature_i] ]\n",
    "The derivative of the regularization term with respect to w[i] is:\n",
    "2*l2_penalty*w[i]\n",
    "\n",
    "Summing both \n",
    "2*SUM[ error*[feature_i] ] + 2*l2_penaltsy*w[i]\n",
    "\n",
    "IMPORTANT: We will not regularize the constant. Thus, in the case of the constant, the derivative is just twice the sum of the errors (without the 2*l2_penalty*w[0] term).\n"
   ]
  },
  {
   "cell_type": "markdown",
   "metadata": {
    "collapsed": true
   },
   "source": [
    "With this in mind write the derivative function which computes the derivative of the weight \n",
    "given the value of the feature (over all data points) and the errors (over all data points). \n",
    "To decide when to we are dealing with the constant (so we don't regularize it) \n",
    "we added the extra parameter to the call ‘feature_is_constant’ \n",
    "which you should set to True when computing the derivative of the constant and False otherwise.\n",
    "\n"
   ]
  },
  {
   "cell_type": "code",
   "execution_count": 9,
   "metadata": {
    "collapsed": true
   },
   "outputs": [],
   "source": [
    "def feature_derivative_ridge(errors,feature,weight,l2_penalty,feature_is_constant):\n",
    "    # If feature_is_constant is True, derivative is twice the dot product of errors and feature\n",
    "    if(feature_is_constant=='true'):\n",
    "        derivative =2*np.dot(errors,feature)  \n",
    "    else:\n",
    "        derivative =2*np.dot(errors,feature) + 2*l2_penalty*weight\n",
    "    return derivative"
   ]
  },
  {
   "cell_type": "markdown",
   "metadata": {},
   "source": [
    "To test your feature derivartive run the following:"
   ]
  },
  {
   "cell_type": "code",
   "execution_count": 10,
   "metadata": {
    "collapsed": false
   },
   "outputs": [
    {
     "name": "stdout",
     "output_type": "stream",
     "text": [
      "(       constant  sqft_living\n",
      "19452         1          290\n",
      "15381         1          370, 21613)\n",
      "\n",
      "19452    142000.0\n",
      "15381    276000.0\n",
      "Name: price, dtype: float64\n",
      "\n",
      "(21613, 2)\n",
      "(21613,)\n"
     ]
    }
   ],
   "source": [
    "(example_features, example_output) = get_numpy_data(sales, ['sqft_living'], 'price') \n",
    "print(example_features.head(2),len(example_features))\n",
    "print''\n",
    "print(example_output.head(2))\n",
    "# 19452 , 15381 are index of df \n",
    "print ''\n",
    "print(example_features.shape)\n",
    "print(example_features.iloc[:,1].shape)"
   ]
  },
  {
   "cell_type": "code",
   "execution_count": 11,
   "metadata": {
    "collapsed": false
   },
   "outputs": [
    {
     "name": "stdout",
     "output_type": "stream",
     "text": [
      "[  1.  10.]\n",
      "('dimensions of test_predictions and example_output : 1', '1')\n",
      "(array([   2901.,    3701.,    3801., ...,  100401.,  120501.,  135401.]), 21613)\n",
      "\n",
      "(19452    142000.0\n",
      "15381    276000.0\n",
      "Name: price, dtype: float64, 21613)\n",
      "\n",
      "19452   -139099.0\n",
      "15381   -272299.0\n",
      "Name: price, dtype: float64\n"
     ]
    }
   ],
   "source": [
    "my_weights = np.array([1., 10.])\n",
    "print (my_weights)\n",
    "test_predictions =predict_output(example_features,my_weights)\n",
    "errors = test_predictions - example_output # prediction errors \n",
    "print(\"dimensions of test_predictions and example_output : \" + str(test_predictions.ndim) ,str(example_output.ndim))\n",
    "print(test_predictions , len(test_predictions))\n",
    "print''\n",
    "print(example_output.head(2),len(example_output))\n",
    "print''\n",
    "print(errors.head(2))"
   ]
  },
  {
   "cell_type": "code",
   "execution_count": 12,
   "metadata": {
    "collapsed": false
   },
   "outputs": [
    {
     "name": "stdout",
     "output_type": "stream",
     "text": [
      "-5.6554166816e+13\n",
      "-5.6554166816e+13\n",
      "\n",
      "-22446749328.0\n",
      "-22446749330.0\n"
     ]
    }
   ],
   "source": [
    "# next two lines should print the same values\n",
    "print feature_derivative_ridge(errors, example_features.iloc[:,1], my_weights[1], 1, False)\n",
    "print np.sum(errors*example_features.iloc[:,1])*2+20.\n",
    "print ''\n",
    "# iloc is used as example_features is pandas dataframe and select sqft living \n",
    "\n",
    "# next two lines should print the same values\n",
    "print feature_derivative_ridge(errors, example_features.iloc[:,0], my_weights[0], 1, True)\n",
    "print np.sum(errors)*2.\n"
   ]
  },
  {
   "cell_type": "markdown",
   "metadata": {},
   "source": [
    "# Gradient Descent\n"
   ]
  },
  {
   "cell_type": "markdown",
   "metadata": {},
   "source": [
    "Now we will write a function that performs a gradient descent. The basic premise is simple. Given a starting point we update the current weights by moving in the negative gradient direction. Recall that the gradient is the direction of increase and therefore the negative gradient is the direction of decrease and we're trying to minimize a cost function.\n",
    "\n",
    "The amount by which we move in the negative gradient direction is called the 'step size'. We stop when we are 'sufficiently close' to the optimum. Unlike in Week 2, this time we will set a maximum number of iterations and take gradient steps until we reach this maximum number. If no maximum number is supplied, the maximum should be set 100 by default. (Use default parameter values in Python.)\n",
    "\n",
    "With this in mind, complete the following gradient descent function below using your derivative function above. For each step in the gradient descent, we update the weight for each feature before computing our stopping criteria."
   ]
  },
  {
   "cell_type": "code",
   "execution_count": 13,
   "metadata": {
    "collapsed": true
   },
   "outputs": [],
   "source": [
    "def ridge_regression_gradient_descent(feature_matrix, output, initial_weights, \n",
    "                                      step_size, l2_penalty, max_iterations=100):\n",
    "    print 'Starting gradient descent with l2_penalty = ' + str(l2_penalty)\n",
    "    \n",
    "    weights = np.array(initial_weights) # make sure it's a numpy array\n",
    "    iteration = 0 # iteration counter\n",
    "    print_frequency = 1  # for adjusting frequency of debugging output\n",
    "    \n",
    "    #while not reached maximum number of iterations:\n",
    "    while(iteration!=max_iterations):\n",
    "        iteration += 1  # increment iteration counter\n",
    "        ### === code section for adjusting frequency of debugging output. ===\n",
    "        if iteration == 10:\n",
    "            print_frequency = 10\n",
    "        if iteration == 100:\n",
    "            print_frequency = 100\n",
    "        if iteration%print_frequency==0:\n",
    "            print('Iteration = ' + str(iteration))\n",
    "        ### === end code section ===\n",
    "        \n",
    "        # compute the predictions based on feature_matrix and weights using your predict_output() function\n",
    "        predictions =predict_output(feature_matrix,weights)\n",
    "        # compute the errors as predictions - output\n",
    "        errors = predictions - output\n",
    "        # from time to time, print the value of the cost function\n",
    "        if iteration%print_frequency==0:\n",
    "            print 'Cost function = ', str(np.dot(errors,errors) + l2_penalty*(np.dot(weights,weights) - weights[0]**2))\n",
    "        \n",
    "        for i in xrange(len(weights)): # loop over each weight\n",
    "            # Recall that feature_matrix[:,i] is the feature column associated with weights[i]\n",
    "            # compute the derivative for weight[i].\n",
    "            #(Remember: when i=0, you are computing the derivative of the constant!)\n",
    "            if(i==0):\n",
    "                # feature_is_constant is passed as True \n",
    "                derivative =feature_derivative_ridge(errors, feature_matrix.iloc[:,i], weights[i], l2_penalty, True)\n",
    "            else :\n",
    "                derivative =feature_derivative_ridge(errors, feature_matrix.iloc[:,i], weights[i], l2_penalty, False)\n",
    "            # subtract the step size times the derivative from the current weight\n",
    "            weights[i]=weights[i]- (step_size*derivative)\n",
    "    print 'Done with gradient descent at iteration ', iteration\n",
    "    print 'Learned weights = ', str(weights)\n",
    "    return weights"
   ]
  },
  {
   "cell_type": "markdown",
   "metadata": {},
   "source": [
    "# Visualizing effect of L2 penalty"
   ]
  },
  {
   "cell_type": "markdown",
   "metadata": {},
   "source": [
    "The L2 penalty gets its name because it causes weights to have small L2 norms than otherwise. Let's see how large weights get penalized. Let us consider a simple model with 1 feature:"
   ]
  },
  {
   "cell_type": "code",
   "execution_count": 16,
   "metadata": {
    "collapsed": true
   },
   "outputs": [],
   "source": [
    "simple_features = ['sqft_living']\n",
    "my_output = 'price'"
   ]
  },
  {
   "cell_type": "raw",
   "metadata": {},
   "source": [
    "Let us split the dataset into training set and test set. Make sure to use `seed=0`:"
   ]
  },
  {
   "cell_type": "code",
   "execution_count": 20,
   "metadata": {
    "collapsed": true
   },
   "outputs": [],
   "source": [
    "train_data = pd.read_csv('kc_house_train_data.csv', dtype=dtype_dict)\n",
    "test_data = pd.read_csv('kc_house_test_data.csv', dtype=dtype_dict)"
   ]
  },
  {
   "cell_type": "markdown",
   "metadata": {},
   "source": [
    "In this part, we will only use 'sqft_living' to predict 'price'. Use the get_numpy_data function to get a Numpy versions of your data with only this feature, for both the train_data and the test_data.\n",
    "\n"
   ]
  },
  {
   "cell_type": "code",
   "execution_count": 21,
   "metadata": {
    "collapsed": false
   },
   "outputs": [],
   "source": [
    "(simple_feature_matrix, output) = get_numpy_data(train_data, simple_features, my_output)\n",
    "(simple_test_feature_matrix, test_output) = get_numpy_data(test_data, simple_features, my_output)"
   ]
  },
  {
   "cell_type": "code",
   "execution_count": 24,
   "metadata": {
    "collapsed": false
   },
   "outputs": [
    {
     "name": "stdout",
     "output_type": "stream",
     "text": [
      "((17384, 2), 2)\n",
      "\n",
      "((17384,), 1)\n"
     ]
    }
   ],
   "source": [
    "print(simple_feature_matrix.shape , simple_feature_matrix.ndim)\n",
    "print ''\n",
    "print(output.shape, output.ndim)"
   ]
  },
  {
   "cell_type": "code",
   "execution_count": 25,
   "metadata": {
    "collapsed": true
   },
   "outputs": [],
   "source": [
    "#Let's set the parameters for our optimization:\n",
    "initial_weights = np.array([0., 0.])\n",
    "step_size = 1e-12\n",
    "max_iterations=1000"
   ]
  },
  {
   "cell_type": "markdown",
   "metadata": {},
   "source": [
    "First, let's consider no regularization. Set the l2_penalty to 0.0 and run your ridge regression algorithm to learn the weights of your model. Call your weights:\n",
    "\n",
    "simple_weights_0_penalty\n",
    "\n",
    "we'll use them later."
   ]
  },
  {
   "cell_type": "code",
   "execution_count": 26,
   "metadata": {
    "collapsed": false
   },
   "outputs": [
    {
     "name": "stdout",
     "output_type": "stream",
     "text": [
      "Starting gradient descent with l2_penalty = 0.0\n",
      "Iteration = 1\n",
      "Cost function =  7.43305185234e+15\n",
      "Iteration = 2\n",
      "Cost function =  5.39426721353e+15\n",
      "Iteration = 3\n",
      "Cost function =  4.02323773629e+15\n",
      "Iteration = 4\n",
      "Cost function =  3.1012561833e+15\n",
      "Iteration = 5\n",
      "Cost function =  2.4812476436e+15\n",
      "Iteration = 6\n",
      "Cost function =  2.0643080768e+15\n",
      "Iteration = 7\n",
      "Cost function =  1.78392709616e+15\n",
      "Iteration = 8\n",
      "Cost function =  1.59537820185e+15\n",
      "Iteration = 9\n",
      "Cost function =  1.4685839897e+15\n",
      "Iteration = 10\n",
      "Cost function =  1.38331819009e+15\n",
      "Iteration = 20\n",
      "Cost function =  1.21156213902e+15\n",
      "Iteration = 30\n",
      "Cost function =  1.20831376121e+15\n",
      "Iteration = 40\n",
      "Cost function =  1.20825232478e+15\n",
      "Iteration = 50\n",
      "Cost function =  1.20825116214e+15\n",
      "Iteration = 60\n",
      "Cost function =  1.20825113944e+15\n",
      "Iteration = 70\n",
      "Cost function =  1.2082511383e+15\n",
      "Iteration = 80\n",
      "Cost function =  1.20825113757e+15\n",
      "Iteration = 90\n",
      "Cost function =  1.20825113685e+15\n",
      "Iteration = 100\n",
      "Cost function =  1.20825113613e+15\n",
      "Iteration = 200\n",
      "Cost function =  1.2082511289e+15\n",
      "Iteration = 300\n",
      "Cost function =  1.20825112168e+15\n",
      "Iteration = 400\n",
      "Cost function =  1.20825111445e+15\n",
      "Iteration = 500\n",
      "Cost function =  1.20825110722e+15\n",
      "Iteration = 600\n",
      "Cost function =  1.2082511e+15\n",
      "Iteration = 700\n",
      "Cost function =  1.20825109277e+15\n",
      "Iteration = 800\n",
      "Cost function =  1.20825108554e+15\n",
      "Iteration = 900\n",
      "Cost function =  1.20825107832e+15\n",
      "Iteration = 1000\n",
      "Cost function =  1.20825107109e+15\n",
      "Done with gradient descent at iteration  1000\n",
      "Learned weights =  [ -1.63113515e-01   2.63024369e+02]\n"
     ]
    }
   ],
   "source": [
    "l2_penalty=0.0\n",
    "simple_weights_0_penalty=ridge_regression_gradient_descent(simple_feature_matrix, output, initial_weights, \n",
    "                                                           step_size, l2_penalty, max_iterations)\n"
   ]
  },
  {
   "cell_type": "raw",
   "metadata": {},
   "source": [
    "Next, let's consider high regularization. Set the l2_penalty to 1e11 and run your ridge regression algorithm to learn the weights of your model. Call your weights:\n",
    "\n",
    "simple_weights_high_penalty\n",
    "\n",
    "we'll use them later."
   ]
  },
  {
   "cell_type": "code",
   "execution_count": 27,
   "metadata": {
    "collapsed": false
   },
   "outputs": [
    {
     "name": "stdout",
     "output_type": "stream",
     "text": [
      "Starting gradient descent with l2_penalty = 1e+11\n",
      "Iteration = 1\n",
      "Cost function =  7.43305185234e+15\n",
      "Iteration = 2\n",
      "Cost function =  5.61830389891e+15\n",
      "Iteration = 3\n",
      "Cost function =  4.92061332784e+15\n",
      "Iteration = 4\n",
      "Cost function =  4.65238205635e+15\n",
      "Iteration = 5\n",
      "Cost function =  4.54925894962e+15\n",
      "Iteration = 6\n",
      "Cost function =  4.50961265457e+15\n",
      "Iteration = 7\n",
      "Cost function =  4.49437039712e+15\n",
      "Iteration = 8\n",
      "Cost function =  4.4885104179e+15\n",
      "Iteration = 9\n",
      "Cost function =  4.48625751221e+15\n",
      "Iteration = 10\n",
      "Cost function =  4.48539136804e+15\n",
      "Iteration = 20\n",
      "Cost function =  4.48485042808e+15\n",
      "Iteration = 30\n",
      "Cost function =  4.48485039003e+15\n",
      "Iteration = 40\n",
      "Cost function =  4.48485039004e+15\n",
      "Iteration = 50\n",
      "Cost function =  4.48485039005e+15\n",
      "Iteration = 60\n",
      "Cost function =  4.48485039005e+15\n",
      "Iteration = 70\n",
      "Cost function =  4.48485039005e+15\n",
      "Iteration = 80\n",
      "Cost function =  4.48485039005e+15\n",
      "Iteration = 90\n",
      "Cost function =  4.48485039005e+15\n",
      "Iteration = 100\n",
      "Cost function =  4.48485039005e+15\n",
      "Iteration = 200\n",
      "Cost function =  4.48485039005e+15\n",
      "Iteration = 300\n",
      "Cost function =  4.48485039005e+15\n",
      "Iteration = 400\n",
      "Cost function =  4.48485039005e+15\n",
      "Iteration = 500\n",
      "Cost function =  4.48485039005e+15\n",
      "Iteration = 600\n",
      "Cost function =  4.48485039005e+15\n",
      "Iteration = 700\n",
      "Cost function =  4.48485039005e+15\n",
      "Iteration = 800\n",
      "Cost function =  4.48485039005e+15\n",
      "Iteration = 900\n",
      "Cost function =  4.48485039005e+15\n",
      "Iteration = 1000\n",
      "Cost function =  4.48485039005e+15\n",
      "Done with gradient descent at iteration  1000\n",
      "Learned weights =  [  4.87184758e-02   1.24574021e+02]\n"
     ]
    }
   ],
   "source": [
    "l2_penalty = 1e11\n",
    "simple_weights_high_penalty = ridge_regression_gradient_descent(simple_feature_matrix, output, initial_weights, \n",
    "                                                           step_size, l2_penalty, max_iterations)\n"
   ]
  },
  {
   "cell_type": "code",
   "execution_count": 28,
   "metadata": {
    "collapsed": false
   },
   "outputs": [
    {
     "data": {
      "text/plain": [
       "[<matplotlib.lines.Line2D at 0x114a19790>,\n",
       " <matplotlib.lines.Line2D at 0x114a19810>,\n",
       " <matplotlib.lines.Line2D at 0x114a19950>,\n",
       " <matplotlib.lines.Line2D at 0x114a73550>,\n",
       " <matplotlib.lines.Line2D at 0x114a73690>,\n",
       " <matplotlib.lines.Line2D at 0x114a7f210>]"
      ]
     },
     "execution_count": 28,
     "metadata": {},
     "output_type": "execute_result"
    },
    {
     "data": {
      "image/png": "[encoded data removed]",
      "text/plain": [
       "<matplotlib.figure.Figure at 0x1145bcb50>"
      ]
     },
     "metadata": {},
     "output_type": "display_data"
    }
   ],
   "source": [
    "import matplotlib.pyplot as plt\n",
    "%matplotlib inline\n",
    "plt.plot(simple_feature_matrix,output,'k.',\n",
    "         simple_feature_matrix,predict_output(simple_feature_matrix, simple_weights_0_penalty),'b-',\n",
    "        simple_feature_matrix,predict_output(simple_feature_matrix, simple_weights_high_penalty),'r-')"
   ]
  },
  {
   "cell_type": "raw",
   "metadata": {},
   "source": [
    "Compute the RSS on the TEST data for the following three sets of weights:\n",
    "1. The initial weights (all zeros)\n",
    "2. The weights learned with no regularization\n",
    "3. The weights learned with high regularization\n",
    "\n",
    "Which weights perform best?"
   ]
  },
  {
   "cell_type": "code",
   "execution_count": 30,
   "metadata": {
    "collapsed": false
   },
   "outputs": [
    {
     "name": "stdout",
     "output_type": "stream",
     "text": [
      "1.78427328614e+15\n"
     ]
    }
   ],
   "source": [
    "# 1. The initial weights (all zeros)\n",
    "\n",
    "test_predictions =predict_output(simple_test_feature_matrix,initial_weights)\n",
    "errors = test_predictions - test_output # prediction errors \n",
    "print sum(errors*errors)\n"
   ]
  },
  {
   "cell_type": "code",
   "execution_count": 31,
   "metadata": {
    "collapsed": false
   },
   "outputs": [
    {
     "name": "stdout",
     "output_type": "stream",
     "text": [
      "2.75723632154e+14\n"
     ]
    }
   ],
   "source": [
    "#2. The weights learned with no regularization\n",
    "\n",
    "test_predictions =predict_output(simple_test_feature_matrix,simple_weights_0_penalty)\n",
    "errors = test_predictions - test_output # prediction errors \n",
    "print sum(errors*errors)\n"
   ]
  },
  {
   "cell_type": "code",
   "execution_count": 32,
   "metadata": {
    "collapsed": false
   },
   "outputs": [
    {
     "name": "stdout",
     "output_type": "stream",
     "text": [
      "6.94654309579e+14\n"
     ]
    }
   ],
   "source": [
    "#3. The weights learned with high regularization\n",
    "test_predictions =predict_output(simple_test_feature_matrix,simple_weights_high_penalty)\n",
    "errors = test_predictions - test_output # prediction errors \n",
    "print sum(errors*errors)"
   ]
  },
  {
   "cell_type": "raw",
   "metadata": {},
   "source": [
    "***QUIZ QUESTIONS***\n",
    "1. What is the value of the coefficient for `sqft_living` that you learned with no regularization, rounded to 1 decimal place?  What about the one with high regularization?\n",
    "2. Comparing the lines you fit with the with no regularization versus high regularization, which one is steeper?\n",
    "3. What are the RSS on the test data for each of the set of weights above (initial, no regularization, high regularization)? \n"
   ]
  },
  {
   "cell_type": "code",
   "execution_count": 33,
   "metadata": {
    "collapsed": false
   },
   "outputs": [
    {
     "data": {
      "text/plain": [
       "(array([ -1.63113515e-01,   2.63024369e+02]),\n",
       " array([  4.87184758e-02,   1.24574021e+02]))"
      ]
     },
     "execution_count": 33,
     "metadata": {},
     "output_type": "execute_result"
    }
   ],
   "source": [
    "# What is the value of the coefficient for sqft_living that you learned with no regularization, rounded to 1 decimal place?\n",
    "# What about the one with high regularization?\n",
    "simple_weights_0_penalty , simple_weights_high_penalty\n",
    "# 1st value -1.63113515e-01 signify the w0 and 2nd value w1 i.e weight for sqft_living"
   ]
  },
  {
   "cell_type": "code",
   "execution_count": null,
   "metadata": {
    "collapsed": true
   },
   "outputs": [],
   "source": [
    "#Comparing the lines you fit with the with no regularization versus high regularization, which one is steeper?\n",
    "# high reg\n",
    "#What are the RSS on the test data for each of the set of weights above (initial, no regularization, high regularization)?\n",
    "#found above"
   ]
  },
  {
   "cell_type": "markdown",
   "metadata": {},
   "source": [
    "# Running a multiple regression with L2 penalty¶"
   ]
  },
  {
   "cell_type": "raw",
   "metadata": {},
   "source": [
    "Let us now consider a model with 2 features: ['sqft_living', 'sqft_living15'].\n",
    "\n",
    "First, create Numpy versions of your training and test data with these two features."
   ]
  },
  {
   "cell_type": "code",
   "execution_count": 37,
   "metadata": {
    "collapsed": true
   },
   "outputs": [],
   "source": [
    "model_features = ['sqft_living', 'sqft_living15'] # sqft_living15 is the average squarefeet for the nearest 15 neighbors. \n",
    "my_output = 'price'\n",
    "(feature_matrix, output) = get_numpy_data(train_data, model_features, my_output)\n",
    "(test_feature_matrix, test_output) = get_numpy_data(test_data, model_features, my_output)"
   ]
  },
  {
   "cell_type": "code",
   "execution_count": 39,
   "metadata": {
    "collapsed": false
   },
   "outputs": [
    {
     "name": "stdout",
     "output_type": "stream",
     "text": [
      "((17384, 3), 2)\n",
      "\n",
      "((17384,), 1)\n"
     ]
    }
   ],
   "source": [
    "print(feature_matrix.shape , feature_matrix.ndim)\n",
    "print ''\n",
    "print(output.shape, output.ndim)"
   ]
  },
  {
   "cell_type": "markdown",
   "metadata": {},
   "source": [
    "We need to re-inialize the weights, since we have one extra parameter. Let us also set the step size and maximum number of iterations."
   ]
  },
  {
   "cell_type": "code",
   "execution_count": 40,
   "metadata": {
    "collapsed": true
   },
   "outputs": [],
   "source": [
    "initial_weights = np.array([0.0,0.0,0.0])\n",
    "step_size = 1e-12\n",
    "max_iterations = 1000"
   ]
  },
  {
   "cell_type": "markdown",
   "metadata": {},
   "source": [
    "First, let’s consider no regularization. Set the L2 penalty to 0.0 and run your ridge regression algorithm. Use the following parameters:\n",
    "\n"
   ]
  },
  {
   "cell_type": "code",
   "execution_count": 42,
   "metadata": {
    "collapsed": false
   },
   "outputs": [
    {
     "name": "stdout",
     "output_type": "stream",
     "text": [
      "Starting gradient descent with l2_penalty = 0.0\n",
      "Iteration = 1\n",
      "Cost function =  7.43305185234e+15\n",
      "Iteration = 2\n",
      "Cost function =  4.05675233205e+15\n",
      "Iteration = 3\n",
      "Cost function =  2.52956511453e+15\n",
      "Iteration = 4\n",
      "Cost function =  1.8385566943e+15\n",
      "Iteration = 5\n",
      "Cost function =  1.52567557515e+15\n",
      "Iteration = 6\n",
      "Cost function =  1.38378949857e+15\n",
      "Iteration = 7\n",
      "Cost function =  1.31923260615e+15\n",
      "Iteration = 8\n",
      "Cost function =  1.28964887188e+15\n",
      "Iteration = 9\n",
      "Cost function =  1.27588472391e+15\n",
      "Iteration = 10\n",
      "Cost function =  1.2692788074e+15\n",
      "Iteration = 20\n",
      "Cost function =  1.25781238602e+15\n",
      "Iteration = 30\n",
      "Cost function =  1.25195457086e+15\n",
      "Iteration = 40\n",
      "Cost function =  1.24675542266e+15\n",
      "Iteration = 50\n",
      "Cost function =  1.24213950817e+15\n",
      "Iteration = 60\n",
      "Cost function =  1.23804140048e+15\n",
      "Iteration = 70\n",
      "Cost function =  1.23440301274e+15\n",
      "Iteration = 80\n",
      "Cost function =  1.2311727742e+15\n",
      "Iteration = 90\n",
      "Cost function =  1.22830489923e+15\n",
      "Iteration = 100\n",
      "Cost function =  1.22575873839e+15\n",
      "Iteration = 200\n",
      "Cost function =  1.21173888029e+15\n",
      "Iteration = 300\n",
      "Cost function =  1.20747307976e+15\n",
      "Iteration = 400\n",
      "Cost function =  1.20617512454e+15\n",
      "Iteration = 500\n",
      "Cost function =  1.205780189e+15\n",
      "Iteration = 600\n",
      "Cost function =  1.20566001323e+15\n",
      "Iteration = 700\n",
      "Cost function =  1.20562343801e+15\n",
      "Iteration = 800\n",
      "Cost function =  1.20561229974e+15\n",
      "Iteration = 900\n",
      "Cost function =  1.20560890112e+15\n",
      "Iteration = 1000\n",
      "Cost function =  1.20560785742e+15\n",
      "Done with gradient descent at iteration  1000\n",
      "Learned weights =  [  -0.35743483  243.05416982   22.41481497]\n"
     ]
    }
   ],
   "source": [
    "l2_penalty = 0.0\n",
    "multiple_weights_0_penalty = ridge_regression_gradient_descent(feature_matrix, output, initial_weights, \n",
    "                                                           step_size, l2_penalty, max_iterations)\n"
   ]
  },
  {
   "cell_type": "markdown",
   "metadata": {},
   "source": [
    "Next, let's consider high regularization. Set the l2_penalty to 1e11 and run your ridge regression algorithm to learn the weights of your model. Call your weights:\n",
    "\n",
    "multiple_weights_high_penalty"
   ]
  },
  {
   "cell_type": "code",
   "execution_count": 43,
   "metadata": {
    "collapsed": false
   },
   "outputs": [
    {
     "name": "stdout",
     "output_type": "stream",
     "text": [
      "Starting gradient descent with l2_penalty = 1e+11\n",
      "Iteration = 1\n",
      "Cost function =  7.43305185234e+15\n",
      "Iteration = 2\n",
      "Cost function =  4.46048979092e+15\n",
      "Iteration = 3\n",
      "Cost function =  3.79667450459e+15\n",
      "Iteration = 4\n",
      "Cost function =  3.64831960209e+15\n",
      "Iteration = 5\n",
      "Cost function =  3.61509121357e+15\n",
      "Iteration = 6\n",
      "Cost function =  3.60760289463e+15\n",
      "Iteration = 7\n",
      "Cost function =  3.60588651809e+15\n",
      "Iteration = 8\n",
      "Cost function =  3.60547511535e+15\n",
      "Iteration = 9\n",
      "Cost function =  3.60536545395e+15\n",
      "Iteration = 10\n",
      "Cost function =  3.60532973391e+15\n",
      "Iteration = 20\n",
      "Cost function =  3.60529506655e+15\n",
      "Iteration = 30\n",
      "Cost function =  3.60529477466e+15\n",
      "Iteration = 40\n",
      "Cost function =  3.60529477179e+15\n",
      "Iteration = 50\n",
      "Cost function =  3.60529477176e+15\n",
      "Iteration = 60\n",
      "Cost function =  3.60529477176e+15\n",
      "Iteration = 70\n",
      "Cost function =  3.60529477176e+15\n",
      "Iteration = 80\n",
      "Cost function =  3.60529477176e+15\n",
      "Iteration = 90\n",
      "Cost function =  3.60529477176e+15\n",
      "Iteration = 100\n",
      "Cost function =  3.60529477176e+15\n",
      "Iteration = 200\n",
      "Cost function =  3.60529477176e+15\n",
      "Iteration = 300\n",
      "Cost function =  3.60529477176e+15\n",
      "Iteration = 400\n",
      "Cost function =  3.60529477176e+15\n",
      "Iteration = 500\n",
      "Cost function =  3.60529477176e+15\n",
      "Iteration = 600\n",
      "Cost function =  3.60529477176e+15\n",
      "Iteration = 700\n",
      "Cost function =  3.60529477176e+15\n",
      "Iteration = 800\n",
      "Cost function =  3.60529477176e+15\n",
      "Iteration = 900\n",
      "Cost function =  3.60529477176e+15\n",
      "Iteration = 1000\n",
      "Cost function =  3.60529477176e+15\n",
      "Done with gradient descent at iteration  1000\n",
      "Learned weights =  [  3.36011655e-02   9.14901676e+01   7.84374903e+01]\n"
     ]
    }
   ],
   "source": [
    "l2_penalty = 1e11\n",
    "multiple_weights_high_penalty = ridge_regression_gradient_descent(feature_matrix, output, initial_weights, \n",
    "                                                           step_size, l2_penalty, max_iterations)\n"
   ]
  },
  {
   "cell_type": "raw",
   "metadata": {},
   "source": [
    "Compute the RSS on the TEST data for the following three sets of weights:\n",
    "1. The initial weights (all zeros)\n",
    "2. The weights learned with no regularization\n",
    "3. The weights learned with high regularization\n",
    "\n",
    "Which weights perform best?"
   ]
  },
  {
   "cell_type": "code",
   "execution_count": 44,
   "metadata": {
    "collapsed": false
   },
   "outputs": [
    {
     "name": "stdout",
     "output_type": "stream",
     "text": [
      "1.78427328614e+15\n"
     ]
    }
   ],
   "source": [
    "# 1. The initial weights (all zeros)\n",
    "test_predictions =predict_output(test_feature_matrix,initial_weights)\n",
    "errors = test_predictions - test_output # prediction errors \n",
    "print sum(errors*errors)"
   ]
  },
  {
   "cell_type": "code",
   "execution_count": 45,
   "metadata": {
    "collapsed": false
   },
   "outputs": [
    {
     "name": "stdout",
     "output_type": "stream",
     "text": [
      "2.74067615919e+14\n"
     ]
    }
   ],
   "source": [
    "#2.The weights learned with no regularization\n",
    "test_predictions =predict_output(test_feature_matrix,multiple_weights_0_penalty)\n",
    "errors = test_predictions - test_output # prediction errors \n",
    "print sum(errors*errors)"
   ]
  },
  {
   "cell_type": "code",
   "execution_count": 46,
   "metadata": {
    "collapsed": false
   },
   "outputs": [
    {
     "name": "stdout",
     "output_type": "stream",
     "text": [
      "5.00408530237e+14\n"
     ]
    }
   ],
   "source": [
    "#3.The weights learned with high regularization\n",
    "\n",
    "test_predictions =predict_output(test_feature_matrix,multiple_weights_high_penalty)\n",
    "errors = test_predictions - test_output # prediction errors \n",
    "print sum(errors*errors)"
   ]
  },
  {
   "cell_type": "code",
   "execution_count": 47,
   "metadata": {
    "collapsed": true
   },
   "outputs": [],
   "source": [
    "# Which weights perform best?\n",
    "# The weights learned with no regularization - 2.74067615919e+14"
   ]
  },
  {
   "cell_type": "raw",
   "metadata": {},
   "source": [
    "Predict the house price for the 1st house in the test set using the no regularization and high regularization models. (Remember that python starts indexing from 0.) How far is the prediction from the actual price? Which weights perform best for the 1st house?\n",
    "\n",
    "\n"
   ]
  },
  {
   "cell_type": "code",
   "execution_count": 59,
   "metadata": {
    "collapsed": false
   },
   "outputs": [
    {
     "data": {
      "text/plain": [
       "<bound method Series.sort of constant            1.0\n",
       "sqft_living      1430.0\n",
       "sqft_living15    1780.0\n",
       "Name: 0, dtype: float64>"
      ]
     },
     "execution_count": 59,
     "metadata": {},
     "output_type": "execute_result"
    }
   ],
   "source": [
    "first_house=test_feature_matrix.iloc[0]"
   ]
  },
  {
   "cell_type": "code",
   "execution_count": 55,
   "metadata": {
    "collapsed": false
   },
   "outputs": [
    {
     "name": "stdout",
     "output_type": "stream",
     "text": [
      "6.39483445052e+14\n"
     ]
    }
   ],
   "source": [
    "#Predict the house price for the 1st house in the test set using the no regularization \n",
    "# results may differ as the houses maynt be sorted \n",
    "\n",
    "test_predictions =predict_output(test_feature_matrix.iloc[0],multiple_weights_0_penalty)\n",
    "errors = test_predictions - test_output # prediction errors \n",
    "print sum(errors*errors)"
   ]
  },
  {
   "cell_type": "code",
   "execution_count": 56,
   "metadata": {
    "collapsed": false
   },
   "outputs": [
    {
     "name": "stdout",
     "output_type": "stream",
     "text": [
      "8.51378853403e+14\n"
     ]
    }
   ],
   "source": [
    "# Predict the house price for the 1st house in the test set using the high regularization \n",
    "test_predictions =predict_output(test_feature_matrix.iloc[0],multiple_weights_high_penalty)\n",
    "errors = test_predictions - test_output # prediction errors \n",
    "print sum(errors*errors)"
   ]
  },
  {
   "cell_type": "code",
   "execution_count": 60,
   "metadata": {
    "collapsed": true
   },
   "outputs": [],
   "source": [
    "#Which weights perform best for the 1st house? \n",
    "# test set using the no regularization - 6.39483445052e+14 has less error "
   ]
  },
  {
   "cell_type": "markdown",
   "metadata": {},
   "source": [
    "***QUIZ QUESTIONS***\n",
    "1. What is the value of the coefficient for `sqft_living` that you learned with no regularization, rounded to 1 decimal place?  What about the one with high regularization?\n",
    "2. What are the RSS on the test data for each of the set of weights above (initial, no regularization, high regularization)? \n",
    "3. We make prediction for the first house in the test set using two sets of weights (no regularization vs high regularization). Which weights make better prediction <u>for that particular house</u>?"
   ]
  },
  {
   "cell_type": "raw",
   "metadata": {},
   "source": [
    "1. What is the value of the coefficient for sqft_living that you learned with no regularization, \n",
    " rounded to 1 decimal place? What about the one with high regularization?\n",
    "Learned weights =  [  -0.32957947  236.59859247   28.94063915]  - no regularization \n",
    "- w0 intercept ,w1 is for sqft_living, w2 is for sqft_living15 \n",
    "Learned weights =  [  6.76920529  91.1269463   78.58474644] - high regularization\n",
    " \n",
    "2.What are the RSS on the test data for each of the set of weights above \n",
    "(initial, no regularization, high regularization)? \n",
    "  - calculated above  \n",
    "  test - 1.78427328614e+15\n",
    "  no regularization - 2.74067615919e+14 \n",
    "  high regularization -  5.00408530237e+14 \n",
    "3.We make prediction for the first house in the test set using two sets of weights (no regularization vs high regularization). Which weights make better prediction for that particular house? \n",
    " - calculated above \n",
    "  no regularization - 6.39483445052e+15 \n",
    "  high regularization - 8.51378853403e+15 "
   ]
  },
  {
   "cell_type": "code",
   "execution_count": null,
   "metadata": {
    "collapsed": true
   },
   "outputs": [],
   "source": []
  }
 ],
 "metadata": {
  "kernelspec": {
   "display_name": "Python 2",
   "language": "python",
   "name": "python2"
  },
  "language_info": {
   "codemirror_mode": {
    "name": "ipython",
    "version": 2
   },
   "file_extension": ".py",
   "mimetype": "text/x-python",
   "name": "python",
   "nbconvert_exporter": "python",
   "pygments_lexer": "ipython2",
   "version": "2.7.11"
  }
 },
 "nbformat": 4,
 "nbformat_minor": 0
}
