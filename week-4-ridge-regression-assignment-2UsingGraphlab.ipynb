{
 "cells": [
  {
   "cell_type": "markdown",
   "metadata": {},
   "source": [
    "# Regression Week 4: Ridge Regression (gradient descent)"
   ]
  },
  {
   "cell_type": "markdown",
   "metadata": {},
   "source": [
    "In this notebook, you will implement ridge regression via gradient descent. You will:\n",
    "* Convert an SFrame into a Numpy array\n",
    "* Write a Numpy function to compute the derivative of the regression weights with respect to a single feature\n",
    "* Write gradient descent function to compute the regression weights given an initial weight vector, step size, tolerance, and L2 penalty"
   ]
  },
  {
   "cell_type": "markdown",
   "metadata": {},
   "source": [
    "# Fire up graphlab create"
   ]
  },
  {
   "cell_type": "markdown",
   "metadata": {},
   "source": [
    "Make sure you have the latest version of GraphLab Create (>= 1.7)"
   ]
  },
  {
   "cell_type": "code",
   "execution_count": 1,
   "metadata": {
    "collapsed": false
   },
   "outputs": [],
   "source": [
    "import graphlab"
   ]
  },
  {
   "cell_type": "markdown",
   "metadata": {},
   "source": [
    "# Load in house sales data\n",
    "\n",
    "Dataset is from house sales in King County, the region where the city of Seattle, WA is located."
   ]
  },
  {
   "cell_type": "code",
   "execution_count": 2,
   "metadata": {
    "collapsed": false
   },
   "outputs": [
    {
     "name": "stdout",
     "output_type": "stream",
     "text": [
      "This non-commercial license of GraphLab Create for academic use is assigned to priya1cvr.pb@gmail.com and will expire on May 19, 2019.\n"
     ]
    },
    {
     "name": "stderr",
     "output_type": "stream",
     "text": [
      "[INFO] graphlab.cython.cy_server: GraphLab Create v2.1 started. Logging: /tmp/graphlab_server_1529812603.log\n"
     ]
    }
   ],
   "source": [
    "sales = graphlab.SFrame('kc_house_data.gl/')\n",
    "sales = sales.sort(['sqft_living','price'])"
   ]
  },
  {
   "cell_type": "code",
   "execution_count": 3,
   "metadata": {
    "collapsed": false
   },
   "outputs": [
    {
     "data": {
      "text/html": [
       "<div style=\"max-height:1000px;max-width:1500px;overflow:auto;\"><table frame=\"box\" rules=\"cols\">\n",
       "    <tr>\n",
       "        <th style=\"padding-left: 1em; padding-right: 1em; text-align: center\">id</th>\n",
       "        <th style=\"padding-left: 1em; padding-right: 1em; text-align: center\">date</th>\n",
       "        <th style=\"padding-left: 1em; padding-right: 1em; text-align: center\">price</th>\n",
       "        <th style=\"padding-left: 1em; padding-right: 1em; text-align: center\">bedrooms</th>\n",
       "        <th style=\"padding-left: 1em; padding-right: 1em; text-align: center\">bathrooms</th>\n",
       "        <th style=\"padding-left: 1em; padding-right: 1em; text-align: center\">sqft_living</th>\n",
       "        <th style=\"padding-left: 1em; padding-right: 1em; text-align: center\">sqft_lot</th>\n",
       "        <th style=\"padding-left: 1em; padding-right: 1em; text-align: center\">floors</th>\n",
       "        <th style=\"padding-left: 1em; padding-right: 1em; text-align: center\">waterfront</th>\n",
       "    </tr>\n",
       "    <tr>\n",
       "        <td style=\"padding-left: 1em; padding-right: 1em; text-align: center; vertical-align: top\">3980300371</td>\n",
       "        <td style=\"padding-left: 1em; padding-right: 1em; text-align: center; vertical-align: top\">2014-09-26 00:00:00+00:00</td>\n",
       "        <td style=\"padding-left: 1em; padding-right: 1em; text-align: center; vertical-align: top\">142000.0</td>\n",
       "        <td style=\"padding-left: 1em; padding-right: 1em; text-align: center; vertical-align: top\">0.0</td>\n",
       "        <td style=\"padding-left: 1em; padding-right: 1em; text-align: center; vertical-align: top\">0.0</td>\n",
       "        <td style=\"padding-left: 1em; padding-right: 1em; text-align: center; vertical-align: top\">290.0</td>\n",
       "        <td style=\"padding-left: 1em; padding-right: 1em; text-align: center; vertical-align: top\">20875</td>\n",
       "        <td style=\"padding-left: 1em; padding-right: 1em; text-align: center; vertical-align: top\">1</td>\n",
       "        <td style=\"padding-left: 1em; padding-right: 1em; text-align: center; vertical-align: top\">0</td>\n",
       "    </tr>\n",
       "    <tr>\n",
       "        <td style=\"padding-left: 1em; padding-right: 1em; text-align: center; vertical-align: top\">2856101479</td>\n",
       "        <td style=\"padding-left: 1em; padding-right: 1em; text-align: center; vertical-align: top\">2014-07-01 00:00:00+00:00</td>\n",
       "        <td style=\"padding-left: 1em; padding-right: 1em; text-align: center; vertical-align: top\">276000.0</td>\n",
       "        <td style=\"padding-left: 1em; padding-right: 1em; text-align: center; vertical-align: top\">1.0</td>\n",
       "        <td style=\"padding-left: 1em; padding-right: 1em; text-align: center; vertical-align: top\">0.75</td>\n",
       "        <td style=\"padding-left: 1em; padding-right: 1em; text-align: center; vertical-align: top\">370.0</td>\n",
       "        <td style=\"padding-left: 1em; padding-right: 1em; text-align: center; vertical-align: top\">1801</td>\n",
       "        <td style=\"padding-left: 1em; padding-right: 1em; text-align: center; vertical-align: top\">1</td>\n",
       "        <td style=\"padding-left: 1em; padding-right: 1em; text-align: center; vertical-align: top\">0</td>\n",
       "    </tr>\n",
       "</table>\n",
       "<table frame=\"box\" rules=\"cols\">\n",
       "    <tr>\n",
       "        <th style=\"padding-left: 1em; padding-right: 1em; text-align: center\">view</th>\n",
       "        <th style=\"padding-left: 1em; padding-right: 1em; text-align: center\">condition</th>\n",
       "        <th style=\"padding-left: 1em; padding-right: 1em; text-align: center\">grade</th>\n",
       "        <th style=\"padding-left: 1em; padding-right: 1em; text-align: center\">sqft_above</th>\n",
       "        <th style=\"padding-left: 1em; padding-right: 1em; text-align: center\">sqft_basement</th>\n",
       "        <th style=\"padding-left: 1em; padding-right: 1em; text-align: center\">yr_built</th>\n",
       "        <th style=\"padding-left: 1em; padding-right: 1em; text-align: center\">yr_renovated</th>\n",
       "        <th style=\"padding-left: 1em; padding-right: 1em; text-align: center\">zipcode</th>\n",
       "        <th style=\"padding-left: 1em; padding-right: 1em; text-align: center\">lat</th>\n",
       "    </tr>\n",
       "    <tr>\n",
       "        <td style=\"padding-left: 1em; padding-right: 1em; text-align: center; vertical-align: top\">0</td>\n",
       "        <td style=\"padding-left: 1em; padding-right: 1em; text-align: center; vertical-align: top\">1</td>\n",
       "        <td style=\"padding-left: 1em; padding-right: 1em; text-align: center; vertical-align: top\">1</td>\n",
       "        <td style=\"padding-left: 1em; padding-right: 1em; text-align: center; vertical-align: top\">290</td>\n",
       "        <td style=\"padding-left: 1em; padding-right: 1em; text-align: center; vertical-align: top\">0</td>\n",
       "        <td style=\"padding-left: 1em; padding-right: 1em; text-align: center; vertical-align: top\">1963</td>\n",
       "        <td style=\"padding-left: 1em; padding-right: 1em; text-align: center; vertical-align: top\">0</td>\n",
       "        <td style=\"padding-left: 1em; padding-right: 1em; text-align: center; vertical-align: top\">98024</td>\n",
       "        <td style=\"padding-left: 1em; padding-right: 1em; text-align: center; vertical-align: top\">47.53077245</td>\n",
       "    </tr>\n",
       "    <tr>\n",
       "        <td style=\"padding-left: 1em; padding-right: 1em; text-align: center; vertical-align: top\">0</td>\n",
       "        <td style=\"padding-left: 1em; padding-right: 1em; text-align: center; vertical-align: top\">5</td>\n",
       "        <td style=\"padding-left: 1em; padding-right: 1em; text-align: center; vertical-align: top\">5</td>\n",
       "        <td style=\"padding-left: 1em; padding-right: 1em; text-align: center; vertical-align: top\">370</td>\n",
       "        <td style=\"padding-left: 1em; padding-right: 1em; text-align: center; vertical-align: top\">0</td>\n",
       "        <td style=\"padding-left: 1em; padding-right: 1em; text-align: center; vertical-align: top\">1923</td>\n",
       "        <td style=\"padding-left: 1em; padding-right: 1em; text-align: center; vertical-align: top\">0</td>\n",
       "        <td style=\"padding-left: 1em; padding-right: 1em; text-align: center; vertical-align: top\">98117</td>\n",
       "        <td style=\"padding-left: 1em; padding-right: 1em; text-align: center; vertical-align: top\">47.67782145</td>\n",
       "    </tr>\n",
       "</table>\n",
       "<table frame=\"box\" rules=\"cols\">\n",
       "    <tr>\n",
       "        <th style=\"padding-left: 1em; padding-right: 1em; text-align: center\">long</th>\n",
       "        <th style=\"padding-left: 1em; padding-right: 1em; text-align: center\">sqft_living15</th>\n",
       "        <th style=\"padding-left: 1em; padding-right: 1em; text-align: center\">sqft_lot15</th>\n",
       "    </tr>\n",
       "    <tr>\n",
       "        <td style=\"padding-left: 1em; padding-right: 1em; text-align: center; vertical-align: top\">-121.88842327</td>\n",
       "        <td style=\"padding-left: 1em; padding-right: 1em; text-align: center; vertical-align: top\">1620.0</td>\n",
       "        <td style=\"padding-left: 1em; padding-right: 1em; text-align: center; vertical-align: top\">22850.0</td>\n",
       "    </tr>\n",
       "    <tr>\n",
       "        <td style=\"padding-left: 1em; padding-right: 1em; text-align: center; vertical-align: top\">-122.38911208</td>\n",
       "        <td style=\"padding-left: 1em; padding-right: 1em; text-align: center; vertical-align: top\">1340.0</td>\n",
       "        <td style=\"padding-left: 1em; padding-right: 1em; text-align: center; vertical-align: top\">5000.0</td>\n",
       "    </tr>\n",
       "</table>\n",
       "[2 rows x 21 columns]<br/>\n",
       "</div>"
      ],
      "text/plain": [
       "Columns:\n",
       "\tid\tstr\n",
       "\tdate\tdatetime\n",
       "\tprice\tfloat\n",
       "\tbedrooms\tfloat\n",
       "\tbathrooms\tfloat\n",
       "\tsqft_living\tfloat\n",
       "\tsqft_lot\tint\n",
       "\tfloors\tstr\n",
       "\twaterfront\tint\n",
       "\tview\tint\n",
       "\tcondition\tint\n",
       "\tgrade\tint\n",
       "\tsqft_above\tint\n",
       "\tsqft_basement\tint\n",
       "\tyr_built\tint\n",
       "\tyr_renovated\tint\n",
       "\tzipcode\tstr\n",
       "\tlat\tfloat\n",
       "\tlong\tfloat\n",
       "\tsqft_living15\tfloat\n",
       "\tsqft_lot15\tfloat\n",
       "\n",
       "Rows: 2\n",
       "\n",
       "Data:\n",
       "+------------+---------------------------+----------+----------+-----------+\n",
       "|     id     |            date           |  price   | bedrooms | bathrooms |\n",
       "+------------+---------------------------+----------+----------+-----------+\n",
       "| 3980300371 | 2014-09-26 00:00:00+00:00 | 142000.0 |   0.0    |    0.0    |\n",
       "| 2856101479 | 2014-07-01 00:00:00+00:00 | 276000.0 |   1.0    |    0.75   |\n",
       "+------------+---------------------------+----------+----------+-----------+\n",
       "+-------------+----------+--------+------------+------+-----------+-------+------------+\n",
       "| sqft_living | sqft_lot | floors | waterfront | view | condition | grade | sqft_above |\n",
       "+-------------+----------+--------+------------+------+-----------+-------+------------+\n",
       "|    290.0    |  20875   |   1    |     0      |  0   |     1     |   1   |    290     |\n",
       "|    370.0    |   1801   |   1    |     0      |  0   |     5     |   5   |    370     |\n",
       "+-------------+----------+--------+------------+------+-----------+-------+------------+\n",
       "+---------------+----------+--------------+---------+-------------+\n",
       "| sqft_basement | yr_built | yr_renovated | zipcode |     lat     |\n",
       "+---------------+----------+--------------+---------+-------------+\n",
       "|       0       |   1963   |      0       |  98024  | 47.53077245 |\n",
       "|       0       |   1923   |      0       |  98117  | 47.67782145 |\n",
       "+---------------+----------+--------------+---------+-------------+\n",
       "+---------------+---------------+-----+\n",
       "|      long     | sqft_living15 | ... |\n",
       "+---------------+---------------+-----+\n",
       "| -121.88842327 |     1620.0    | ... |\n",
       "| -122.38911208 |     1340.0    | ... |\n",
       "+---------------+---------------+-----+\n",
       "[2 rows x 21 columns]"
      ]
     },
     "execution_count": 3,
     "metadata": {},
     "output_type": "execute_result"
    }
   ],
   "source": [
    "len(sales)\n",
    "sales.head(2)"
   ]
  },
  {
   "cell_type": "markdown",
   "metadata": {},
   "source": [
    "If we want to do any \"feature engineering\" like creating new features or adjusting existing ones we should do this directly using the SFrames as seen in the first notebook of Week 2. For this notebook, however, we will work with the existing features."
   ]
  },
  {
   "cell_type": "markdown",
   "metadata": {},
   "source": [
    "# Import useful functions from previous notebook"
   ]
  },
  {
   "cell_type": "markdown",
   "metadata": {},
   "source": [
    "As in Week 2, we convert the SFrame into a 2D Numpy array. Copy and paste `get_numpy_data()` from the second notebook of Week 2."
   ]
  },
  {
   "cell_type": "code",
   "execution_count": 4,
   "metadata": {
    "collapsed": true
   },
   "outputs": [],
   "source": [
    "import numpy as np # note this allows us to refer to numpy as np instead "
   ]
  },
  {
   "cell_type": "code",
   "execution_count": 5,
   "metadata": {
    "collapsed": true
   },
   "outputs": [],
   "source": [
    "def predict_output(feature_matrix,weights):\n",
    "    predictions = np.dot(feature_matrix,weights)\n",
    "    return(predictions)"
   ]
  },
  {
   "cell_type": "markdown",
   "metadata": {},
   "source": [
    "Also, copy and paste the `predict_output()` function to compute the predictions for an entire matrix of features given the matrix and the weights:"
   ]
  },
  {
   "cell_type": "code",
   "execution_count": 6,
   "metadata": {
    "collapsed": true
   },
   "outputs": [],
   "source": [
    "def get_numpy_data(data_sframe,features,output):\n",
    "    # add a constant column to an SFrame \n",
    "    data_sframe['constant'] =1 \n",
    "    features = ['constant'] + features \n",
    "    # select the columns of data_SFrame given by the ‘features’ list into the SFrame ‘features_sframe’\n",
    "    features_sframe =data_sframe[features]\n",
    "    # this will convert the features_sframe into a numpy matrix with GraphLab Create >= 1.7!!\n",
    "    features_matrix = features_sframe.to_numpy()\n",
    "    \n",
    "    # assign the column of data_sframe associated with the target to the variable ‘output_sarray’\n",
    "    output_sarray=data_sframe[output]\n",
    "    # this will convert the SArray into a numpy array\n",
    "    output_array = output_sarray.to_numpy()\n",
    "    return(features_matrix,output_array)\n"
   ]
  },
  {
   "cell_type": "markdown",
   "metadata": {},
   "source": [
    "# Computing the Derivative"
   ]
  },
  {
   "cell_type": "markdown",
   "metadata": {},
   "source": [
    "We are now going to move to computing the derivative of the regression cost function. Recall that the cost function is the sum over the data points of the squared difference between an observed output and a predicted output, plus the L2 penalty term.\n",
    "```\n",
    "Cost(w)\n",
    "= SUM[ (prediction - output)^2 ]\n",
    "+ l2_penalty*(w[0]^2 + w[1]^2 + ... + w[k]^2).\n",
    "```\n",
    "\n",
    "Since the derivative of a sum is the sum of the derivatives, we can take the derivative of the first part (the RSS) as we did in the notebook for the unregularized case in Week 2 and add the derivative of the regularization part.  As we saw, the derivative of the RSS with respect to `w[i]` can be written as: \n",
    "```\n",
    "2*SUM[ error*[feature_i] ].\n",
    "```\n",
    "The derivative of the regularization term with respect to `w[i]` is:\n",
    "```\n",
    "2*l2_penalty*w[i].\n",
    "```\n",
    "Summing both, we get\n",
    "```\n",
    "2*SUM[ error*[feature_i] ] + 2*l2_penalty*w[i].\n",
    "```\n",
    "That is, the derivative for the weight for feature i is the sum (over data points) of 2 times the product of the error and the feature itself, plus `2*l2_penalty*w[i]`. \n",
    "\n",
    "**We will not regularize the constant.**  Thus, in the case of the constant, the derivative is just twice the sum of the errors (without the `2*l2_penalty*w[0]` term).\n",
    "\n",
    "Recall that twice the sum of the product of two vectors is just twice the dot product of the two vectors. Therefore the derivative for the weight for feature_i is just two times the dot product between the values of feature_i and the current errors, plus `2*l2_penalty*w[i]`.\n",
    "\n",
    "With this in mind complete the following derivative function which computes the derivative of the weight given the value of the feature (over all data points) and the errors (over all data points).  To decide when to we are dealing with the constant (so we don't regularize it) we added the extra parameter to the call `feature_is_constant` which you should set to `True` when computing the derivative of the constant and `False` otherwise."
   ]
  },
  {
   "cell_type": "code",
   "execution_count": 7,
   "metadata": {
    "collapsed": false
   },
   "outputs": [],
   "source": [
    "def feature_derivative_ridge(errors, feature, weight, l2_penalty, feature_is_constant):\n",
    "    # If feature_is_constant is True, derivative is twice the dot product of errors and feature\n",
    "    if(feature_is_constant==True):\n",
    "        derivative =2*np.dot(errors,feature)\n",
    "    # Otherwise, deriative is twice the dot product plus 2*l2_penalty*weight\n",
    "    else:\n",
    "        derivative =2*np.dot(errors,feature)+2*l2_penalty*weight\n",
    "    return derivative"
   ]
  },
  {
   "cell_type": "markdown",
   "metadata": {},
   "source": [
    "To test your feature derivartive run the following:"
   ]
  },
  {
   "cell_type": "code",
   "execution_count": 8,
   "metadata": {
    "collapsed": false
   },
   "outputs": [
    {
     "name": "stdout",
     "output_type": "stream",
     "text": [
      "-5.65541667824e+13\n",
      "-5.65541667824e+13\n",
      "\n",
      "-22446749336.0\n",
      "-22446749336.0\n"
     ]
    }
   ],
   "source": [
    "(example_features, example_output) = get_numpy_data(sales, ['sqft_living'], 'price') \n",
    "my_weights = np.array([1., 10.])\n",
    "test_predictions = predict_output(example_features, my_weights)\n",
    "errors = test_predictions - example_output # prediction errors\n",
    "\n",
    "# next two lines should print the same values\n",
    "print feature_derivative_ridge(errors, example_features[:,1], my_weights[1], 1, False)\n",
    "print np.sum(errors*example_features[:,1])*2+20.\n",
    "print ''\n",
    "\n",
    "# next two lines should print the same values\n",
    "print feature_derivative_ridge(errors, example_features[:,0], my_weights[0], 1, True)\n",
    "print np.sum(errors)*2."
   ]
  },
  {
   "cell_type": "code",
   "execution_count": 9,
   "metadata": {
    "collapsed": false
   },
   "outputs": [
    {
     "name": "stdout",
     "output_type": "stream",
     "text": [
      "(21613, 2)\n",
      "(21613,)\n"
     ]
    },
    {
     "data": {
      "text/plain": [
       "array([   290.,    370.,    380., ...,  10040.,  12050.,  13540.])"
      ]
     },
     "execution_count": 9,
     "metadata": {},
     "output_type": "execute_result"
    }
   ],
   "source": [
    "print(example_features.shape)\n",
    "print(example_features[:,1].shape)\n",
    "example_features[:,1]"
   ]
  },
  {
   "cell_type": "markdown",
   "metadata": {},
   "source": [
    "# Gradient Descent"
   ]
  },
  {
   "cell_type": "markdown",
   "metadata": {},
   "source": [
    "Now we will write a function that performs a gradient descent. The basic premise is simple. Given a starting point we update the current weights by moving in the negative gradient direction. Recall that the gradient is the direction of *increase* and therefore the negative gradient is the direction of *decrease* and we're trying to *minimize* a cost function. \n",
    "\n",
    "The amount by which we move in the negative gradient *direction*  is called the 'step size'. We stop when we are 'sufficiently close' to the optimum. Unlike in Week 2, this time we will set a **maximum number of iterations** and take gradient steps until we reach this maximum number. If no maximum number is supplied, the maximum should be set 100 by default. (Use default parameter values in Python.)\n",
    "\n",
    "With this in mind, complete the following gradient descent function below using your derivative function above. For each step in the gradient descent, we update the weight for each feature before computing our stopping criteria."
   ]
  },
  {
   "cell_type": "code",
   "execution_count": 10,
   "metadata": {
    "collapsed": false
   },
   "outputs": [],
   "source": [
    "def ridge_regression_gradient_descent(feature_matrix, output, initial_weights, \n",
    "                                      step_size, l2_penalty, max_iterations=100):\n",
    "    print 'Starting gradient descent with l2_penalty = ' + str(l2_penalty)\n",
    "    \n",
    "    weights = np.array(initial_weights) # make sure it's a numpy array\n",
    "    iteration = 0 # iteration counter\n",
    "    print_frequency = 1  # for adjusting frequency of debugging output\n",
    "    \n",
    "    #while not reached maximum number of iterations:\n",
    "    while(iteration!=max_iterations):\n",
    "        iteration += 1  # increment iteration counter\n",
    "        ### === code section for adjusting frequency of debugging output. ===\n",
    "        if iteration == 10:\n",
    "            print_frequency = 10\n",
    "        if iteration == 100:\n",
    "            print_frequency = 100\n",
    "        if iteration%print_frequency==0:\n",
    "            print('Iteration = ' + str(iteration))\n",
    "        ### === end code section ===\n",
    "        \n",
    "        # compute the predictions based on feature_matrix and weights using your predict_output() function\n",
    "        predictions =predict_output(feature_matrix,weights)\n",
    "        # compute the errors as predictions - output\n",
    "        errors = predictions - output\n",
    "        # from time to time, print the value of the cost function\n",
    "        if iteration%print_frequency==0:\n",
    "            print 'Cost function = ', str(np.dot(errors,errors) + l2_penalty*(np.dot(weights,weights) - weights[0]**2))\n",
    "        \n",
    "        for i in xrange(len(weights)): # loop over each weight\n",
    "            # Recall that feature_matrix[:,i] is the feature column associated with weights[i]\n",
    "            # compute the derivative for weight[i].\n",
    "            #(Remember: when i=0, you are computing the derivative of the constant!)\n",
    "            if(i==0):\n",
    "                # feature_is_constant is passed as True \n",
    "                derivative =feature_derivative_ridge(errors, feature_matrix[:,i], weights[i], l2_penalty, True)\n",
    "            else :\n",
    "                derivative =feature_derivative_ridge(errors, feature_matrix[:,i], weights[i], l2_penalty, False)\n",
    "            # subtract the step size times the derivative from the current weight\n",
    "            weights[i]=weights[i]- (step_size*derivative)\n",
    "    print 'Done with gradient descent at iteration ', iteration\n",
    "    print 'Learned weights = ', str(weights)\n",
    "    return weights"
   ]
  },
  {
   "cell_type": "markdown",
   "metadata": {},
   "source": [
    "# Visualizing effect of L2 penalty"
   ]
  },
  {
   "cell_type": "markdown",
   "metadata": {},
   "source": [
    "The L2 penalty gets its name because it causes weights to have small L2 norms than otherwise. Let's see how large weights get penalized. Let us consider a simple model with 1 feature:"
   ]
  },
  {
   "cell_type": "code",
   "execution_count": 11,
   "metadata": {
    "collapsed": true
   },
   "outputs": [],
   "source": [
    "simple_features = ['sqft_living']\n",
    "my_output = 'price'"
   ]
  },
  {
   "cell_type": "markdown",
   "metadata": {},
   "source": [
    "Let us split the dataset into training set and test set. Make sure to use `seed=0`:"
   ]
  },
  {
   "cell_type": "code",
   "execution_count": 12,
   "metadata": {
    "collapsed": true
   },
   "outputs": [],
   "source": [
    "train_data,test_data = sales.random_split(.8,seed=0)"
   ]
  },
  {
   "cell_type": "markdown",
   "metadata": {},
   "source": [
    "In this part, we will only use `'sqft_living'` to predict `'price'`. Use the `get_numpy_data` function to get a Numpy versions of your data with only this feature, for both the `train_data` and the `test_data`. "
   ]
  },
  {
   "cell_type": "code",
   "execution_count": 13,
   "metadata": {
    "collapsed": true
   },
   "outputs": [],
   "source": [
    "(simple_feature_matrix, output) = get_numpy_data(train_data, simple_features, my_output)\n",
    "(simple_test_feature_matrix, test_output) = get_numpy_data(test_data, simple_features, my_output)"
   ]
  },
  {
   "cell_type": "code",
   "execution_count": 14,
   "metadata": {
    "collapsed": false
   },
   "outputs": [
    {
     "name": "stdout",
     "output_type": "stream",
     "text": [
      "[[  1.00000000e+00   2.90000000e+02]\n",
      " [  1.00000000e+00   3.70000000e+02]\n",
      " [  1.00000000e+00   3.80000000e+02]\n",
      " ..., \n",
      " [  1.00000000e+00   9.64000000e+03]\n",
      " [  1.00000000e+00   1.20500000e+04]\n",
      " [  1.00000000e+00   1.35400000e+04]]\n",
      "((17384, 2), 2)\n",
      "\n",
      "[  142000.   276000.   245000. ...,  4668000.  7700000.  2280000.]\n",
      "((17384,), 1)\n"
     ]
    }
   ],
   "source": [
    "print(simple_feature_matrix)\n",
    "print(simple_feature_matrix.shape , simple_feature_matrix.ndim)\n",
    "print ''\n",
    "print(output)\n",
    "print(output.shape, output.ndim)"
   ]
  },
  {
   "cell_type": "markdown",
   "metadata": {},
   "source": [
    "Let's set the parameters for our optimization:"
   ]
  },
  {
   "cell_type": "code",
   "execution_count": 15,
   "metadata": {
    "collapsed": true
   },
   "outputs": [],
   "source": [
    "initial_weights = np.array([0., 0.])\n",
    "step_size = 1e-12\n",
    "max_iterations=1000"
   ]
  },
  {
   "cell_type": "markdown",
   "metadata": {},
   "source": [
    "First, let's consider no regularization.  Set the `l2_penalty` to `0.0` and run your ridge regression algorithm to learn the weights of your model.  Call your weights:\n",
    "\n",
    "`simple_weights_0_penalty`\n",
    "\n",
    "we'll use them later."
   ]
  },
  {
   "cell_type": "code",
   "execution_count": 16,
   "metadata": {
    "collapsed": false
   },
   "outputs": [
    {
     "name": "stdout",
     "output_type": "stream",
     "text": [
      "Starting gradient descent with l2_penalty = 0.0\n",
      "Iteration = 1\n",
      "Cost function =  7.35880592728e+15\n",
      "Iteration = 2\n",
      "Cost function =  5.32649429874e+15\n",
      "Iteration = 3\n",
      "Cost function =  3.96027092714e+15\n",
      "Iteration = 4\n",
      "Cost function =  3.04182600222e+15\n",
      "Iteration = 5\n",
      "Cost function =  2.42440055214e+15\n",
      "Iteration = 6\n",
      "Cost function =  2.00933572237e+15\n",
      "Iteration = 7\n",
      "Cost function =  1.73030800673e+15\n",
      "Iteration = 8\n",
      "Cost function =  1.54273136685e+15\n",
      "Iteration = 9\n",
      "Cost function =  1.41663279723e+15\n",
      "Iteration = 10\n",
      "Cost function =  1.33186291718e+15\n",
      "Iteration = 20\n",
      "Cost function =  1.16126769708e+15\n",
      "Iteration = 30\n",
      "Cost function =  1.15805195652e+15\n",
      "Iteration = 40\n",
      "Cost function =  1.15799133898e+15\n",
      "Iteration = 50\n",
      "Cost function =  1.15799019589e+15\n",
      "Iteration = 60\n",
      "Cost function =  1.15799017389e+15\n",
      "Iteration = 70\n",
      "Cost function =  1.15799017302e+15\n",
      "Iteration = 80\n",
      "Cost function =  1.15799017256e+15\n",
      "Iteration = 90\n",
      "Cost function =  1.1579901721e+15\n",
      "Iteration = 100\n",
      "Cost function =  1.15799017164e+15\n",
      "Iteration = 200\n",
      "Cost function =  1.15799016705e+15\n",
      "Iteration = 300\n",
      "Cost function =  1.15799016247e+15\n",
      "Iteration = 400\n",
      "Cost function =  1.15799015788e+15\n",
      "Iteration = 500\n",
      "Cost function =  1.15799015329e+15\n",
      "Iteration = 600\n",
      "Cost function =  1.15799014871e+15\n",
      "Iteration = 700\n",
      "Cost function =  1.15799014412e+15\n",
      "Iteration = 800\n",
      "Cost function =  1.15799013953e+15\n",
      "Iteration = 900\n",
      "Cost function =  1.15799013495e+15\n",
      "Iteration = 1000\n",
      "Cost function =  1.15799013036e+15\n",
      "Done with gradient descent at iteration  1000\n",
      "Learned weights =  [ -1.08717115e-01   2.62418005e+02]\n"
     ]
    }
   ],
   "source": [
    "l2_penalty=0.0\n",
    "simple_weights_0_penalty=ridge_regression_gradient_descent(simple_feature_matrix, output, initial_weights, \n",
    "                                                           step_size, l2_penalty, max_iterations)\n"
   ]
  },
  {
   "cell_type": "markdown",
   "metadata": {},
   "source": [
    "Next, let's consider high regularization.  Set the `l2_penalty` to `1e11` and run your ridge regression algorithm to learn the weights of your model.  Call your weights:\n",
    "\n",
    "`simple_weights_high_penalty`\n",
    "\n",
    "we'll use them later."
   ]
  },
  {
   "cell_type": "code",
   "execution_count": 17,
   "metadata": {
    "collapsed": false
   },
   "outputs": [
    {
     "name": "stdout",
     "output_type": "stream",
     "text": [
      "Starting gradient descent with l2_penalty = 1e+11\n",
      "Iteration = 1\n",
      "Cost function =  7.35880592728e+15\n",
      "Iteration = 2\n",
      "Cost function =  5.54983636707e+15\n",
      "Iteration = 3\n",
      "Cost function =  4.85467227014e+15\n",
      "Iteration = 4\n",
      "Cost function =  4.58752947357e+15\n",
      "Iteration = 5\n",
      "Cost function =  4.48486982921e+15\n",
      "Iteration = 6\n",
      "Cost function =  4.44541897222e+15\n",
      "Iteration = 7\n",
      "Cost function =  4.43025844982e+15\n",
      "Iteration = 8\n",
      "Cost function =  4.42443239464e+15\n",
      "Iteration = 9\n",
      "Cost function =  4.42219345672e+15\n",
      "Iteration = 10\n",
      "Cost function =  4.42133300243e+15\n",
      "Iteration = 20\n",
      "Cost function =  4.42079510478e+15\n",
      "Iteration = 30\n",
      "Cost function =  4.42079411091e+15\n",
      "Iteration = 40\n",
      "Cost function =  4.42079315475e+15\n",
      "Iteration = 50\n",
      "Cost function =  4.42079219859e+15\n",
      "Iteration = 60\n",
      "Cost function =  4.42079124244e+15\n",
      "Iteration = 70\n",
      "Cost function =  4.42079028628e+15\n",
      "Iteration = 80\n",
      "Cost function =  4.42078933013e+15\n",
      "Iteration = 90\n",
      "Cost function =  4.42078837397e+15\n",
      "Iteration = 100\n",
      "Cost function =  4.42078741782e+15\n",
      "Iteration = 200\n",
      "Cost function =  4.4207778563e+15\n",
      "Iteration = 300\n",
      "Cost function =  4.42076829482e+15\n",
      "Iteration = 400\n",
      "Cost function =  4.42075873338e+15\n",
      "Iteration = 500\n",
      "Cost function =  4.42074917198e+15\n",
      "Iteration = 600\n",
      "Cost function =  4.42073961062e+15\n",
      "Iteration = 700\n",
      "Cost function =  4.42073004929e+15\n",
      "Iteration = 800\n",
      "Cost function =  4.42072048801e+15\n",
      "Iteration = 900\n",
      "Cost function =  4.42071092677e+15\n",
      "Iteration = 1000\n",
      "Cost function =  4.42070136557e+15\n",
      "Done with gradient descent at iteration  1000\n",
      "Learned weights =  [   9.80190359  124.33440529]\n"
     ]
    }
   ],
   "source": [
    "l2_penalty = 1e11\n",
    "simple_weights_high_penalty = ridge_regression_gradient_descent(simple_feature_matrix, output, initial_weights, \n",
    "                                                           step_size, l2_penalty, max_iterations)\n"
   ]
  },
  {
   "cell_type": "markdown",
   "metadata": {},
   "source": [
    "This code will plot the two learned models.  (The blue line is for the model with no regularization and the red line is for the one with high regularization.)"
   ]
  },
  {
   "cell_type": "code",
   "execution_count": 18,
   "metadata": {
    "collapsed": false
   },
   "outputs": [
    {
     "data": {
      "text/plain": [
       "[<matplotlib.lines.Line2D at 0x11cd6a910>,\n",
       " <matplotlib.lines.Line2D at 0x11cd6aa10>,\n",
       " <matplotlib.lines.Line2D at 0x11cd6ac10>,\n",
       " <matplotlib.lines.Line2D at 0x11cd7d810>,\n",
       " <matplotlib.lines.Line2D at 0x11cd7d950>,\n",
       " <matplotlib.lines.Line2D at 0x11cd894d0>]"
      ]
     },
     "execution_count": 18,
     "metadata": {},
     "output_type": "execute_result"
    },
    {
     "data": {
      "image/png": "[encoded data removed]",
      "text/plain": [
       "<matplotlib.figure.Figure at 0x11cbc99d0>"
      ]
     },
     "metadata": {},
     "output_type": "display_data"
    }
   ],
   "source": [
    "import matplotlib.pyplot as plt\n",
    "%matplotlib inline\n",
    "plt.plot(simple_feature_matrix,output,'k.',\n",
    "         simple_feature_matrix,predict_output(simple_feature_matrix, simple_weights_0_penalty),'b-',\n",
    "        simple_feature_matrix,predict_output(simple_feature_matrix, simple_weights_high_penalty),'r-')"
   ]
  },
  {
   "cell_type": "markdown",
   "metadata": {},
   "source": [
    "Compute the RSS on the TEST data for the following three sets of weights:\n",
    "1. The initial weights (all zeros)\n",
    "2. The weights learned with no regularization\n",
    "3. The weights learned with high regularization\n",
    "\n",
    "Which weights perform best?"
   ]
  },
  {
   "cell_type": "code",
   "execution_count": 19,
   "metadata": {
    "collapsed": false
   },
   "outputs": [
    {
     "name": "stdout",
     "output_type": "stream",
     "text": [
      "1.85851920627e+15\n"
     ]
    }
   ],
   "source": [
    "# 1. The initial weights (all zeros)\n",
    "\n",
    "test_predictions =predict_output(simple_test_feature_matrix,initial_weights)\n",
    "errors = test_predictions - test_output # prediction errors \n",
    "print sum(errors*errors)\n"
   ]
  },
  {
   "cell_type": "code",
   "execution_count": 20,
   "metadata": {
    "collapsed": false
   },
   "outputs": [
    {
     "name": "stdout",
     "output_type": "stream",
     "text": [
      "3.26034461837e+14\n"
     ]
    }
   ],
   "source": [
    "#2. The weights learned with no regularization\n",
    "\n",
    "test_predictions =predict_output(simple_test_feature_matrix,simple_weights_0_penalty)\n",
    "errors = test_predictions - test_output # prediction errors \n",
    "print sum(errors*errors)\n"
   ]
  },
  {
   "cell_type": "code",
   "execution_count": 21,
   "metadata": {
    "collapsed": false
   },
   "outputs": [
    {
     "name": "stdout",
     "output_type": "stream",
     "text": [
      "7.6014352473e+14\n"
     ]
    }
   ],
   "source": [
    "#3. The weights learned with high regularization\n",
    "test_predictions =predict_output(simple_test_feature_matrix,simple_weights_high_penalty)\n",
    "errors = test_predictions - test_output # prediction errors \n",
    "print sum(errors*errors)"
   ]
  },
  {
   "cell_type": "markdown",
   "metadata": {
    "collapsed": false
   },
   "source": [
    "***QUIZ QUESTIONS***\n",
    "1. What is the value of the coefficient for `sqft_living` that you learned with no regularization, rounded to 1 decimal place?  What about the one with high regularization?\n",
    "2. Comparing the lines you fit with the with no regularization versus high regularization, which one is steeper?\n",
    "3. What are the RSS on the test data for each of the set of weights above (initial, no regularization, high regularization)? \n"
   ]
  },
  {
   "cell_type": "code",
   "execution_count": 22,
   "metadata": {
    "collapsed": false
   },
   "outputs": [
    {
     "data": {
      "text/plain": [
       "(array([ -1.08717115e-01,   2.62418005e+02]),\n",
       " array([   9.80190359,  124.33440529]))"
      ]
     },
     "execution_count": 22,
     "metadata": {},
     "output_type": "execute_result"
    }
   ],
   "source": [
    "# What is the value of the coefficient for sqft_living that you learned with no regularization, rounded to 1 decimal place?\n",
    "# What about the one with high regularization?\n",
    "simple_weights_0_penalty , simple_weights_high_penalty\n",
    "# 1st value -1.08717115e-01 signify the w0 and 2nd value w1 i.e weight for sqft_living"
   ]
  },
  {
   "cell_type": "code",
   "execution_count": 23,
   "metadata": {
    "collapsed": true
   },
   "outputs": [],
   "source": [
    "#Comparing the lines you fit with the with no regularization versus high regularization, which one is steeper?\n",
    "# high reg\n",
    "#What are the RSS on the test data for each of the set of weights above (initial, no regularization, high regularization)?\n",
    "#found above"
   ]
  },
  {
   "cell_type": "markdown",
   "metadata": {},
   "source": [
    "# Running a multiple regression with L2 penalty"
   ]
  },
  {
   "cell_type": "markdown",
   "metadata": {},
   "source": [
    "Let us now consider a model with 2 features: `['sqft_living', 'sqft_living15']`."
   ]
  },
  {
   "cell_type": "markdown",
   "metadata": {},
   "source": [
    "First, create Numpy versions of your training and test data with these two features. "
   ]
  },
  {
   "cell_type": "code",
   "execution_count": 24,
   "metadata": {
    "collapsed": true
   },
   "outputs": [],
   "source": [
    "model_features = ['sqft_living', 'sqft_living15'] # sqft_living15 is the average squarefeet for the nearest 15 neighbors. \n",
    "my_output = 'price'\n",
    "(feature_matrix, output) = get_numpy_data(train_data, model_features, my_output)\n",
    "(test_feature_matrix, test_output) = get_numpy_data(test_data, model_features, my_output)"
   ]
  },
  {
   "cell_type": "code",
   "execution_count": 25,
   "metadata": {
    "collapsed": false
   },
   "outputs": [
    {
     "name": "stdout",
     "output_type": "stream",
     "text": [
      "[[  1.00000000e+00   2.90000000e+02   1.62000000e+03]\n",
      " [  1.00000000e+00   3.70000000e+02   1.34000000e+03]\n",
      " [  1.00000000e+00   3.80000000e+02   1.17000000e+03]\n",
      " ..., \n",
      " [  1.00000000e+00   9.64000000e+03   3.27000000e+03]\n",
      " [  1.00000000e+00   1.20500000e+04   3.94000000e+03]\n",
      " [  1.00000000e+00   1.35400000e+04   4.85000000e+03]]\n",
      "((17384, 3), 2)\n",
      "\n",
      "[  142000.   276000.   245000. ...,  4668000.  7700000.  2280000.]\n",
      "((17384,), 1)\n"
     ]
    }
   ],
   "source": [
    "print(feature_matrix)\n",
    "print(feature_matrix.shape , feature_matrix.ndim)\n",
    "print ''\n",
    "print(output)\n",
    "print(output.shape, output.ndim)"
   ]
  },
  {
   "cell_type": "markdown",
   "metadata": {},
   "source": [
    "We need to re-inialize the weights, since we have one extra parameter. Let us also set the step size and maximum number of iterations."
   ]
  },
  {
   "cell_type": "code",
   "execution_count": 26,
   "metadata": {
    "collapsed": true
   },
   "outputs": [],
   "source": [
    "initial_weights = np.array([0.0,0.0,0.0])\n",
    "step_size = 1e-12\n",
    "max_iterations = 1000"
   ]
  },
  {
   "cell_type": "markdown",
   "metadata": {},
   "source": [
    "First, let’s consider no regularization. Set the L2 penalty to 0.0 and run your ridge regression algorithm. Use the following parameters:"
   ]
  },
  {
   "cell_type": "code",
   "execution_count": 27,
   "metadata": {
    "collapsed": false
   },
   "outputs": [
    {
     "name": "stdout",
     "output_type": "stream",
     "text": [
      "Starting gradient descent with l2_penalty = 0.0\n",
      "Iteration = 1\n",
      "Cost function =  7.35880592728e+15\n",
      "Iteration = 2\n",
      "Cost function =  3.98494556065e+15\n",
      "Iteration = 3\n",
      "Cost function =  2.46191217698e+15\n",
      "Iteration = 4\n",
      "Cost function =  1.77418673681e+15\n",
      "Iteration = 5\n",
      "Cost function =  1.46345148961e+15\n",
      "Iteration = 6\n",
      "Cost function =  1.32286128542e+15\n",
      "Iteration = 7\n",
      "Cost function =  1.25906401578e+15\n",
      "Iteration = 8\n",
      "Cost function =  1.22992854234e+15\n",
      "Iteration = 9\n",
      "Cost function =  1.2164404551e+15\n",
      "Iteration = 10\n",
      "Cost function =  1.21001824185e+15\n",
      "Iteration = 20\n",
      "Cost function =  1.1994667926e+15\n",
      "Iteration = 30\n",
      "Cost function =  1.1943334645e+15\n",
      "Iteration = 40\n",
      "Cost function =  1.18977552118e+15\n",
      "Iteration = 50\n",
      "Cost function =  1.18572715001e+15\n",
      "Iteration = 60\n",
      "Cost function =  1.18213138101e+15\n",
      "Iteration = 70\n",
      "Cost function =  1.17893761388e+15\n",
      "Iteration = 80\n",
      "Cost function =  1.17610090537e+15\n",
      "Iteration = 90\n",
      "Cost function =  1.17358133681e+15\n",
      "Iteration = 100\n",
      "Cost function =  1.17134345241e+15\n",
      "Iteration = 200\n",
      "Cost function =  1.15899707123e+15\n",
      "Iteration = 300\n",
      "Cost function =  1.15522434679e+15\n",
      "Iteration = 400\n",
      "Cost function =  1.15407149714e+15\n",
      "Iteration = 500\n",
      "Cost function =  1.1537192095e+15\n",
      "Iteration = 600\n",
      "Cost function =  1.1536115517e+15\n",
      "Iteration = 700\n",
      "Cost function =  1.15357864609e+15\n",
      "Iteration = 800\n",
      "Cost function =  1.15356858269e+15\n",
      "Iteration = 900\n",
      "Cost function =  1.15356549925e+15\n",
      "Iteration = 1000\n",
      "Cost function =  1.1535645487e+15\n",
      "Done with gradient descent at iteration  1000\n",
      "Learned weights =  [  -0.32957947  236.59859247   28.94063915]\n"
     ]
    }
   ],
   "source": [
    "l2_penalty = 0.0\n",
    "multiple_weights_0_penalty = ridge_regression_gradient_descent(feature_matrix, output, initial_weights, \n",
    "                                                           step_size, l2_penalty, max_iterations)\n"
   ]
  },
  {
   "cell_type": "markdown",
   "metadata": {},
   "source": [
    "Next, let's consider high regularization.  Set the `l2_penalty` to `1e11` and run your ridge regression algorithm to learn the weights of your model.  Call your weights:\n",
    "\n",
    "`multiple_weights_high_penalty`"
   ]
  },
  {
   "cell_type": "code",
   "execution_count": 28,
   "metadata": {
    "collapsed": false
   },
   "outputs": [
    {
     "name": "stdout",
     "output_type": "stream",
     "text": [
      "Starting gradient descent with l2_penalty = 1e+11\n",
      "Iteration = 1\n",
      "Cost function =  7.35880592728e+15\n",
      "Iteration = 2\n",
      "Cost function =  4.38855278582e+15\n",
      "Iteration = 3\n",
      "Cost function =  3.72714288705e+15\n",
      "Iteration = 4\n",
      "Cost function =  3.57975999381e+15\n",
      "Iteration = 5\n",
      "Cost function =  3.54685447473e+15\n",
      "Iteration = 6\n",
      "Cost function =  3.53946749338e+15\n",
      "Iteration = 7\n",
      "Cost function =  3.53778383071e+15\n",
      "Iteration = 8\n",
      "Cost function =  3.53738422234e+15\n",
      "Iteration = 9\n",
      "Cost function =  3.53727959846e+15\n",
      "Iteration = 10\n",
      "Cost function =  3.53724641343e+15\n",
      "Iteration = 20\n",
      "Cost function =  3.53721507649e+15\n",
      "Iteration = 30\n",
      "Cost function =  3.53721436531e+15\n",
      "Iteration = 40\n",
      "Cost function =  3.53721390761e+15\n",
      "Iteration = 50\n",
      "Cost function =  3.53721345243e+15\n",
      "Iteration = 60\n",
      "Cost function =  3.53721299728e+15\n",
      "Iteration = 70\n",
      "Cost function =  3.53721254213e+15\n",
      "Iteration = 80\n",
      "Cost function =  3.53721208697e+15\n",
      "Iteration = 90\n",
      "Cost function =  3.53721163182e+15\n",
      "Iteration = 100\n",
      "Cost function =  3.53721117667e+15\n",
      "Iteration = 200\n",
      "Cost function =  3.53720662516e+15\n",
      "Iteration = 300\n",
      "Cost function =  3.53720207366e+15\n",
      "Iteration = 400\n",
      "Cost function =  3.53719752218e+15\n",
      "Iteration = 500\n",
      "Cost function =  3.53719297071e+15\n",
      "Iteration = 600\n",
      "Cost function =  3.53718841926e+15\n",
      "Iteration = 700\n",
      "Cost function =  3.53718386782e+15\n",
      "Iteration = 800\n",
      "Cost function =  3.53717931639e+15\n",
      "Iteration = 900\n",
      "Cost function =  3.53717476498e+15\n",
      "Iteration = 1000\n",
      "Cost function =  3.53717021358e+15\n",
      "Done with gradient descent at iteration  1000\n",
      "Learned weights =  [  6.76920529  91.1269463   78.58474644]\n"
     ]
    }
   ],
   "source": [
    "l2_penalty = 1e11\n",
    "multiple_weights_high_penalty = ridge_regression_gradient_descent(feature_matrix, output, initial_weights, \n",
    "                                                           step_size, l2_penalty, max_iterations)\n"
   ]
  },
  {
   "cell_type": "markdown",
   "metadata": {},
   "source": [
    "Compute the RSS on the TEST data for the following three sets of weights:\n",
    "1. The initial weights (all zeros)\n",
    "2. The weights learned with no regularization\n",
    "3. The weights learned with high regularization\n",
    "\n",
    "Which weights perform best?"
   ]
  },
  {
   "cell_type": "code",
   "execution_count": 29,
   "metadata": {
    "collapsed": false
   },
   "outputs": [
    {
     "name": "stdout",
     "output_type": "stream",
     "text": [
      "1.85851920627e+15\n"
     ]
    }
   ],
   "source": [
    "# 1. The initial weights (all zeros)\n",
    "test_predictions =predict_output(test_feature_matrix,initial_weights)\n",
    "errors = test_predictions - test_output # prediction errors \n",
    "print sum(errors*errors)"
   ]
  },
  {
   "cell_type": "code",
   "execution_count": 30,
   "metadata": {
    "collapsed": false
   },
   "outputs": [
    {
     "name": "stdout",
     "output_type": "stream",
     "text": [
      "3.26172730075e+14\n"
     ]
    }
   ],
   "source": [
    "#2.The weights learned with no regularization\n",
    "test_predictions =predict_output(test_feature_matrix,multiple_weights_0_penalty)\n",
    "errors = test_predictions - test_output # prediction errors \n",
    "print sum(errors*errors)"
   ]
  },
  {
   "cell_type": "code",
   "execution_count": 31,
   "metadata": {
    "collapsed": false
   },
   "outputs": [
    {
     "name": "stdout",
     "output_type": "stream",
     "text": [
      "5.6953617621e+14\n"
     ]
    }
   ],
   "source": [
    "#3.The weights learned with high regularization\n",
    "\n",
    "test_predictions =predict_output(test_feature_matrix,multiple_weights_high_penalty)\n",
    "errors = test_predictions - test_output # prediction errors \n",
    "print sum(errors*errors)"
   ]
  },
  {
   "cell_type": "code",
   "execution_count": 32,
   "metadata": {
    "collapsed": true
   },
   "outputs": [],
   "source": [
    "# Which weights perform best?\n",
    "# The weights learned with no regularization - 3.26172730075e+14"
   ]
  },
  {
   "cell_type": "markdown",
   "metadata": {},
   "source": [
    "Predict the house price for the 1st house in the test set using the no regularization and high regularization models. (Remember that python starts indexing from 0.) How far is the prediction from the actual price?  Which weights perform best for the 1st house?"
   ]
  },
  {
   "cell_type": "code",
   "execution_count": 37,
   "metadata": {
    "collapsed": false
   },
   "outputs": [
    {
     "data": {
      "text/plain": [
       "array([  1.00000000e+00,   4.70000000e+02,   1.73000000e+03])"
      ]
     },
     "execution_count": 37,
     "metadata": {},
     "output_type": "execute_result"
    }
   ],
   "source": [
    "first_house=test_feature_matrix[0]\n",
    "test_feature_matrix[0]"
   ]
  },
  {
   "cell_type": "code",
   "execution_count": 34,
   "metadata": {
    "collapsed": false
   },
   "outputs": [
    {
     "name": "stdout",
     "output_type": "stream",
     "text": [
      "1.23155283785e+15\n"
     ]
    }
   ],
   "source": [
    "#Predict the house price for the 1st house in the test set using the no regularization \n",
    "\n",
    "test_predictions =predict_output(test_feature_matrix[0],multiple_weights_0_penalty)\n",
    "errors = test_predictions - test_output # prediction errors \n",
    "print sum(errors*errors)"
   ]
  },
  {
   "cell_type": "code",
   "execution_count": 35,
   "metadata": {
    "collapsed": false
   },
   "outputs": [
    {
     "name": "stdout",
     "output_type": "stream",
     "text": [
      "1.1766875706e+15\n"
     ]
    }
   ],
   "source": [
    "# Predict the house price for the 1st house in the test set using the high regularization \n",
    "test_predictions =predict_output(test_feature_matrix[0],multiple_weights_high_penalty)\n",
    "errors = test_predictions - test_output # prediction errors \n",
    "print sum(errors*errors)"
   ]
  },
  {
   "cell_type": "code",
   "execution_count": 36,
   "metadata": {
    "collapsed": true
   },
   "outputs": [],
   "source": [
    "#Which weights perform best for the 1st house? \n",
    "# test set using the no regularization - 1.23155283785e+15 has less error "
   ]
  },
  {
   "cell_type": "markdown",
   "metadata": {
    "collapsed": true
   },
   "source": [
    "***QUIZ QUESTIONS***\n",
    "1. What is the value of the coefficient for `sqft_living` that you learned with no regularization, rounded to 1 decimal place?  What about the one with high regularization?\n",
    "2. What are the RSS on the test data for each of the set of weights above (initial, no regularization, high regularization)? \n",
    "3. We make prediction for the first house in the test set using two sets of weights (no regularization vs high regularization). Which weights make better prediction <u>for that particular house</u>?"
   ]
  },
  {
   "cell_type": "markdown",
   "metadata": {},
   "source": [
    "1. What is the value of the coefficient for sqft_living that you learned with no regularization, \n",
    " rounded to 1 decimal place? What about the one with high regularization?\n",
    "Learned weights =  [  -0.32957947  236.59859247   28.94063915]  - no regularization \n",
    "- w0 intercept ,w1 is for sqft_living, w2 is for sqft_living15 \n",
    "Learned weights =  [  6.76920529  91.1269463   78.58474644] - high regularization\n",
    " \n",
    "2.What are the RSS on the test data for each of the set of weights above \n",
    "(initial, no regularization, high regularization)? \n",
    "  - calculated above  \n",
    "  test - 1.85851920627e+15\n",
    "  no regularization - 3.26172730075e+14 \n",
    "  high regularization -  5.6953617621e+14 \n",
    "3.We make prediction for the first house in the test set using two sets of weights (no regularization vs high regularization). Which weights make better prediction for that particular house? \n",
    " - calculated above \n",
    "  no regularization - 1.23155283785e+15 \n",
    "  high regularization - 1.1766875706e+15 "
   ]
  },
  {
   "cell_type": "code",
   "execution_count": null,
   "metadata": {
    "collapsed": true
   },
   "outputs": [],
   "source": []
  }
 ],
 "metadata": {
  "kernelspec": {
   "display_name": "Python 2",
   "language": "python",
   "name": "python2"
  },
  "language_info": {
   "codemirror_mode": {
    "name": "ipython",
    "version": 2
   },
   "file_extension": ".py",
   "mimetype": "text/x-python",
   "name": "python",
   "nbconvert_exporter": "python",
   "pygments_lexer": "ipython2",
   "version": "2.7.11"
  }
 },
 "nbformat": 4,
 "nbformat_minor": 0
}
